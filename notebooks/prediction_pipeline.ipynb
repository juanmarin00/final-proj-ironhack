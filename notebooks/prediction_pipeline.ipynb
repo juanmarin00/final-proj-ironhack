{
 "cells": [
  {
   "cell_type": "code",
   "execution_count": 25,
   "metadata": {},
   "outputs": [],
   "source": [
    "import numpy as np\n",
    "import pandas as pd\n",
    "\n",
    "import matplotlib.pyplot as plt\n",
    "import seaborn as sns\n",
    "%matplotlib inline\n",
    "\n",
    "import pickle\n",
    "\n",
    "plt.style.use('seaborn-whitegrid')\n",
    "\n",
    "import warnings\n",
    "warnings.filterwarnings('ignore')\n"
   ]
  },
  {
   "cell_type": "code",
   "execution_count": 39,
   "metadata": {},
   "outputs": [],
   "source": [
    "#import models\n",
    "\n",
    "price_model = pickle.load(open(\"prize_model.sav\", 'rb'))\n",
    "time_model = pickle.load(open(\"length_model.sav\", 'rb'))"
   ]
  },
  {
   "cell_type": "markdown",
   "metadata": {},
   "source": [
    "### Price model"
   ]
  },
  {
   "cell_type": "code",
   "execution_count": 29,
   "metadata": {},
   "outputs": [],
   "source": [
    "#All functions used for price pred\n",
    "def prepare_time_features(df):\n",
    "    df['pickup_datetime'] = df['pickup_datetime'].str.slice(0, 16)\n",
    "    df['pickup_datetime'] = pd.to_datetime(df['pickup_datetime'], utc=True, format='%Y-%m-%d %H:%M')\n",
    "    df['hour_of_day'] = df.pickup_datetime.dt.hour\n",
    "    df['month'] = df.pickup_datetime.dt.month\n",
    "    df[\"year\"] = df.pickup_datetime.dt.year\n",
    "    df[\"weekday\"] = df.pickup_datetime.dt.weekday\n",
    "    return df\n",
    "\n",
    "def transform(data):\n",
    "    # Distances to nearby airports, \n",
    "    jfk = (-73.7781, 40.6413)\n",
    "    ewr = (-74.1745, 40.6895)\n",
    "    lgr = (-73.8740, 40.7769)\n",
    "\n",
    "    data['distance_to_jfk'] = distance(jfk[1], jfk[0],\n",
    "                                         data['pickup_latitude'], data['pickup_longitude'])\n",
    "    data['distance_to_ewr'] = distance(ewr[1], ewr[0], \n",
    "                                          data['pickup_latitude'], data['pickup_longitude'])\n",
    "    data['distance_to_lgr'] = distance(lgr[1], lgr[0],\n",
    "                                          data['pickup_latitude'], data['pickup_longitude'])\n",
    "    \n",
    "    return data\n",
    "\n",
    "def distance(lat1, lon1, lat2, lon2):\n",
    "    p = 0.017453292519943295 # Pi/180\n",
    "    a = 0.5 - np.cos((lat2 - lat1) * p)/2 + np.cos(lat1 * p) * np.cos(lat2 * p) * (1 - np.cos((lon2 - lon1) * p)) / 2\n",
    "    return 0.6213712 * 12742 * np.arcsin(np.sqrt(a))"
   ]
  },
  {
   "cell_type": "code",
   "execution_count": 35,
   "metadata": {},
   "outputs": [],
   "source": [
    "def get_price_pipeline(timestamp, n_passengers, pickup_latitude, dropoff_longitude, dropoff_latitude, pickup_longitude):\n",
    "    d = {'pickup_datetime': [timestamp], 'passenger_count': [n_passengers],  'pickup_latitude' : [pickup_latitude], 'dropoff_longitude' : [dropoff_longitude], 'dropoff_latitude' : [dropoff_latitude],'pickup_longitude' : [pickup_longitude]}\n",
    "    manual_df = pd.DataFrame(data=d)\n",
    "    col_order = ['pickup_longitude', 'pickup_latitude', 'dropoff_longitude',\n",
    "       'dropoff_latitude', 'passenger_count', 'hour_of_day', 'month', 'year',\n",
    "       'weekday', 'distance_miles', 'distance_to_jfk', 'distance_to_ewr',\n",
    "       'distance_to_lgr']\n",
    "    \n",
    "    prepare_time_features(manual_df)\n",
    "    transform(manual_df)\n",
    "    manual_df['distance_miles'] = distance(manual_df.pickup_latitude, manual_df.pickup_longitude, \\\n",
    "                                      manual_df.dropoff_latitude, manual_df.dropoff_longitude)\n",
    "    manual_df.drop(columns= ['pickup_datetime'], axis= 1, inplace=True)\n",
    "\n",
    "    manual_df = manual_df[col_order]\n",
    "    \n",
    "    manual_predictions = price_model.predict(manual_df)\n",
    "    \n",
    "    return manual_predictions\n",
    "    "
   ]
  },
  {
   "cell_type": "code",
   "execution_count": 38,
   "metadata": {},
   "outputs": [
    {
     "data": {
      "text/plain": [
       "array([9.4])"
      ]
     },
     "execution_count": 38,
     "metadata": {},
     "output_type": "execute_result"
    }
   ],
   "source": [
    "#Lets test our pipeline\n",
    "get_price_pipeline('2020-01-01 13:12:11', 1, 40.763805, -73.98369, 40.743835, -73.97332)"
   ]
  },
  {
   "cell_type": "markdown",
   "metadata": {},
   "source": [
    "### Time model"
   ]
  },
  {
   "cell_type": "code",
   "execution_count": 43,
   "metadata": {},
   "outputs": [],
   "source": [
    "def get_time_pipeline(timestamp, n_passengers, pickup_latitude, dropoff_longitude, dropoff_latitude, pickup_longitude):\n",
    "    d = {'pickup_datetime': [timestamp], 'passenger_count': [n_passengers],  'pickup_latitude' : [pickup_latitude], 'dropoff_longitude' : [dropoff_longitude], 'dropoff_latitude' : [dropoff_latitude],'pickup_longitude' : [pickup_longitude]}\n",
    "    manual_df = pd.DataFrame(data=d)\n",
    "    manual_df['pickup_datetime'] = pd.to_datetime(manual_df.pickup_datetime)\n",
    "    manual_df['month'] = manual_df.pickup_datetime.dt.month\n",
    "    manual_df['week'] = manual_df.pickup_datetime.dt.week\n",
    "    manual_df['weekday'] = manual_df.pickup_datetime.dt.weekday\n",
    "    manual_df['hour'] = manual_df.pickup_datetime.dt.hour\n",
    "    manual_df['minute'] = manual_df.pickup_datetime.dt.minute\n",
    "    manual_df['minute_oftheday'] = manual_df['hour'] * 60 + manual_df['minute']\n",
    "    manual_df.drop(['minute'], axis=1, inplace=True)\n",
    "    \n",
    "    col_order = ['passenger_count', 'pickup_longitude', 'pickup_latitude',\n",
    "       'dropoff_longitude', 'dropoff_latitude', 'month', 'week', 'weekday',\n",
    "       'hour', 'minute_oftheday']\n",
    "    \n",
    "    predictions = time_model.predict(manual_df[col_order])\n",
    "    \n",
    "    return predictions"
   ]
  },
  {
   "cell_type": "code",
   "execution_count": 44,
   "metadata": {},
   "outputs": [
    {
     "data": {
      "text/plain": [
       "array([6.4662578])"
      ]
     },
     "execution_count": 44,
     "metadata": {},
     "output_type": "execute_result"
    }
   ],
   "source": [
    "get_time_pipeline('2020-12-12 17:59:58', 1, 40.763805, -73.981430, 40.743835, -73.973320)"
   ]
  },
  {
   "cell_type": "code",
   "execution_count": null,
   "metadata": {},
   "outputs": [],
   "source": []
  }
 ],
 "metadata": {
  "kernelspec": {
   "display_name": "Python 3",
   "language": "python",
   "name": "python3"
  },
  "language_info": {
   "codemirror_mode": {
    "name": "ipython",
    "version": 3
   },
   "file_extension": ".py",
   "mimetype": "text/x-python",
   "name": "python",
   "nbconvert_exporter": "python",
   "pygments_lexer": "ipython3",
   "version": "3.7.3"
  },
  "toc": {
   "base_numbering": 1,
   "nav_menu": {},
   "number_sections": true,
   "sideBar": true,
   "skip_h1_title": false,
   "title_cell": "Table of Contents",
   "title_sidebar": "Contents",
   "toc_cell": false,
   "toc_position": {},
   "toc_section_display": true,
   "toc_window_display": false
  }
 },
 "nbformat": 4,
 "nbformat_minor": 2
}
